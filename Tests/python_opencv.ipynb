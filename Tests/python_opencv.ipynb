{
 "cells": [
  {
   "cell_type": "code",
   "execution_count": 1,
   "id": "fd2f8b6b",
   "metadata": {},
   "outputs": [],
   "source": [
    "import cv2\n",
    "import numpy as np \n",
    "import time \n",
    "\n",
    "\n",
    "# Функция выполняет сложение изображений\n",
    "def addImages(img1, img2):\n",
    "    img2 = cv2.resize(img2, dsize=(img1.shape[1], img1.shape[0]))\n",
    "    imgAdd = cv2.add(img1, img2)\n",
    "    return imgAdd\n",
    "\n",
    "# Функция выполняет вычитание изображений\n",
    "def subtractImages(img1, img2):\n",
    "    img2 = cv2.resize(img2, dsize=(img1.shape[1], img1.shape[0]))\n",
    "\n",
    "    imgSubtract = cv2.subtract(img1, img2)\n",
    "    return imgSubtract\n",
    "\n",
    "# Загрузка изображений\n",
    "img1 = cv2.imread('Images/ford.jpg')\n",
    "img2 = cv2.imread('Images/img1.jpg')\n",
    "\n",
    "test = []\n",
    "\n",
    "for i in range(20):\n",
    "    start = time.time()\n",
    "    img_add = addImages(img1,img2)  \n",
    "    img_subtract = subtractImages(img1,img2) \n",
    "    end = time.time()\n",
    "    test.append(end-start)      \n",
    "\n",
    "flagAdd = True  # флаг сложения\n",
    "flagSubtract = True # флаг вычитания\n",
    "\n",
    "while True:\n",
    "    img_show = img1\n",
    "\n",
    "    if not flagAdd:\n",
    "        img_show = img_add\n",
    "\n",
    "    if not flagSubtract:\n",
    "        img_show = img_subtract   \n",
    "        \n",
    "    cv2.imshow('Result', cv2.resize(img_show, dsize=(1000, 700)))\n",
    "\n",
    "    key = cv2.waitKey(1)\n",
    "    if key == ord('q'):\n",
    "        break\n",
    "    if key == ord('a'):\n",
    "        flagSubtract = True\n",
    "        flagAdd = not flagAdd\n",
    "    if key == ord('s'):\n",
    "        flagAdd = True\n",
    "        flagSubtract = not flagSubtract\n",
    "\n",
    "cv2.destroyAllWindows()"
   ]
  },
  {
   "cell_type": "code",
   "execution_count": 12,
   "id": "f71863b5",
   "metadata": {},
   "outputs": [
    {
     "name": "stdout",
     "output_type": "stream",
     "text": [
      "[0.00896310806274414, 0.008040666580200195, 0.007579803466796875, 0.00900411605834961, 0.00999760627746582, 0.008000373840332031, 0.008000612258911133, 0.008002996444702148, 0.007996320724487305, 0.00799870491027832, 0.007999658584594727, 0.008003711700439453, 0.007995843887329102, 0.008000612258911133, 0.007962465286254883, 0.008004426956176758, 0.007997751235961914, 0.007998943328857422, 0.007999181747436523, 0.007001161575317383]\n"
     ]
    }
   ],
   "source": [
    "print(test)"
   ]
  },
  {
   "cell_type": "code",
   "execution_count": 13,
   "id": "5d990349",
   "metadata": {},
   "outputs": [],
   "source": [
    "excel = open( 'test.xls', 'a' )\n",
    "excel.write('python native')\n",
    "for element in test:\n",
    "     excel.write('\\t')\n",
    "     excel.write(str(element))\n",
    "excel.write('\\n')\n",
    "excel.close()"
   ]
  },
  {
   "cell_type": "code",
   "execution_count": 14,
   "id": "ac7b3388",
   "metadata": {},
   "outputs": [
    {
     "data": {
      "text/plain": [
       "True"
      ]
     },
     "execution_count": 14,
     "metadata": {},
     "output_type": "execute_result"
    }
   ],
   "source": [
    "cv2.imwrite('results/python_opencv_add.jpg', img_add)\n",
    "cv2.imwrite('results/python_opencv_subtract.jpg', img_subtract)"
   ]
  },
  {
   "cell_type": "code",
   "execution_count": null,
   "id": "46462803",
   "metadata": {},
   "outputs": [],
   "source": []
  }
 ],
 "metadata": {
  "kernelspec": {
   "display_name": "Python 3 (ipykernel)",
   "language": "python",
   "name": "python3"
  },
  "language_info": {
   "codemirror_mode": {
    "name": "ipython",
    "version": 3
   },
   "file_extension": ".py",
   "mimetype": "text/x-python",
   "name": "python",
   "nbconvert_exporter": "python",
   "pygments_lexer": "ipython3",
   "version": "3.9.12"
  }
 },
 "nbformat": 4,
 "nbformat_minor": 5
}
