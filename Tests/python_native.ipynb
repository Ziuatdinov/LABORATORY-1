{
 "cells": [
  {
   "cell_type": "code",
   "execution_count": 2,
   "id": "01ced1c6",
   "metadata": {},
   "outputs": [],
   "source": [
    "import cv2\n",
    "import numpy as np \n",
    "import time\n",
    "\n",
    "# Функция считает сумму двух параметров в uint8\n",
    "def sumUint8(a,b):\n",
    "    a,b = int(a), int(b)\n",
    "    z = a + b if a + b <= 255 else 255\n",
    "    return z\n",
    "# Функция считает разность двух параметров в uint8\n",
    "def differenceUint8(a,b):\n",
    "    a,b = int(a), int(b)\n",
    "    z = a - b if a - b >= 0 else 0\n",
    "    return z\n",
    "\n",
    "# RGB в OpenCv BGR\n",
    "# Функция выполняет сложение изображений\n",
    "def addImages(img1, img2):\n",
    "    img2 = cv2.resize(img2, dsize=(img1.shape[1], img1.shape[0]))\n",
    "    imgAdd = np.zeros((img1.shape[0], img1.shape[1], 3), dtype='uint8')\n",
    "    \n",
    "    for i in range(img1.shape[0]):\n",
    "        for j in range(img2.shape[1]):\n",
    "            \n",
    "            imgAdd[i,j,0] = sumUint8(img1[i,j,0],img2[i,j,0])\n",
    "            imgAdd[i,j,1] = sumUint8(img1[i,j,1],img2[i,j,1])\n",
    "            imgAdd[i,j,2] = sumUint8(img1[i,j,2],img2[i,j,2])\n",
    "    return imgAdd\n",
    "\n",
    "# Функция выполняет вычитание изображений\n",
    "def subtractImages(img1, img2):\n",
    "    img2 = cv2.resize(img2, dsize=(img1.shape[1], img1.shape[0]))\n",
    "    imgSubtract = np.zeros((img1.shape[0], img1.shape[1], 3), dtype='uint8')\n",
    "    \n",
    "    for i in range(img1.shape[0]):\n",
    "        for j in range(img2.shape[1]):\n",
    "            \n",
    "            imgSubtract[i,j,0] = differenceUint8(img1[i,j,0],img2[i,j,0])\n",
    "            imgSubtract[i,j,1] = differenceUint8(img1[i,j,1],img2[i,j,1])\n",
    "            imgSubtract[i,j,2] = differenceUint8(img1[i,j,2],img2[i,j,2])\n",
    "    return imgSubtract\n",
    "\n",
    "# Загрузка изображений\n",
    "img1 = cv2.imread('Images/ford.jpg')\n",
    "img2 = cv2.imread('Images/img1.jpg')\n",
    "\n",
    "test = []     \n",
    "\n",
    "for i in range(20):\n",
    "    start = time.time()\n",
    "    img_add = addImages(img1,img2)  \n",
    "    img_subtract = subtractImages(img1,img2) \n",
    "    end = time.time()\n",
    "    test.append(end-start)\n",
    "    \n",
    "flagAdd = True  # флаг сложения\n",
    "flagSubtract = True # флаг вычитания\n",
    "\n",
    "# вывод Opencv\n",
    "while True:\n",
    "    img_show = img1\n",
    "\n",
    "    if not flagAdd:\n",
    "        img_show = img_add\n",
    "\n",
    "    if not flagSubtract:\n",
    "        img_show = img_subtract   \n",
    "        \n",
    "    cv2.imshow('Result', cv2.resize(img_show, dsize=(1000, 700)))\n",
    "\n",
    "    key = cv2.waitKey(1)\n",
    "    \n",
    "    if key == ord('q'):\n",
    "        break\n",
    "    if key == ord('a'):\n",
    "        flagSubtract = True\n",
    "        flagAdd = not flagAdd\n",
    "    if key == ord('s'):\n",
    "        flagAdd = True\n",
    "        flagSubtract = not flagSubtract\n",
    "        \n",
    "cv2.destroyAllWindows()"
   ]
  },
  {
   "cell_type": "code",
   "execution_count": 3,
   "id": "543343f6",
   "metadata": {},
   "outputs": [
    {
     "name": "stdout",
     "output_type": "stream",
     "text": [
      "[7.152374029159546, 7.47485613822937, 7.618057727813721, 7.375227451324463, 7.247023582458496, 7.214862585067749, 7.184391021728516, 7.3662660121917725, 7.3095927238464355, 7.261885166168213, 7.281078577041626, 7.268970489501953, 7.185535192489624, 7.159442901611328, 7.228555917739868, 7.203728914260864, 7.163771629333496, 7.167993783950806, 7.2475597858428955, 7.154954671859741]\n"
     ]
    }
   ],
   "source": [
    "print(test)"
   ]
  },
  {
   "cell_type": "code",
   "execution_count": 4,
   "id": "74913168",
   "metadata": {},
   "outputs": [],
   "source": [
    "excel = open( 'test.xls', 'a' )\n",
    "excel.write('python native')\n",
    "for element in test:\n",
    "     excel.write('\\t')\n",
    "     excel.write(str(element))\n",
    "excel.write('\\n')\n",
    "excel.close()"
   ]
  },
  {
   "cell_type": "code",
   "execution_count": 7,
   "id": "23694cb8",
   "metadata": {},
   "outputs": [
    {
     "data": {
      "text/plain": [
       "True"
      ]
     },
     "execution_count": 7,
     "metadata": {},
     "output_type": "execute_result"
    }
   ],
   "source": [
    "cv2.imwrite('results/python_native_add.jpg', img_add)\n",
    "cv2.imwrite('results/python_native_subtract.jpg', img_subtract)"
   ]
  }
 ],
 "metadata": {
  "kernelspec": {
   "display_name": "Python 3 (ipykernel)",
   "language": "python",
   "name": "python3"
  },
  "language_info": {
   "codemirror_mode": {
    "name": "ipython",
    "version": 3
   },
   "file_extension": ".py",
   "mimetype": "text/x-python",
   "name": "python",
   "nbconvert_exporter": "python",
   "pygments_lexer": "ipython3",
   "version": "3.9.12"
  }
 },
 "nbformat": 4,
 "nbformat_minor": 5
}
